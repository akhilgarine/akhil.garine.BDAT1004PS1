{
 "cells": [
  {
   "cell_type": "markdown",
   "id": "30cba477",
   "metadata": {},
   "source": [
    "Question 1 C#\n",
    "What data type is each of the following?"
   ]
  },
  {
   "cell_type": "markdown",
   "id": "d5f5628c",
   "metadata": {},
   "source": [
    "\"Type of '5' is\"- Char\n",
    "\"Type of 52 is\"- Int \n",
    "\"Type of '5'2 is\"- String \n",
    "\"Type of '5'+'2' is\"-string \n",
    "\"Type of 5%2 is\"-int \n",
    "\"Type of {5,2,1} is\"-int array \n",
    "\"Type of 5==3 is\"-bool \n",
    "\"Type of pi is\"-float\n"
   ]
  },
  {
   "cell_type": "markdown",
   "id": "964782f7",
   "metadata": {},
   "source": [
    "Question 2 C#\n",
    "Write (and evaluate) C# expressions that answer these questions:"
   ]
  },
  {
   "cell_type": "markdown",
   "id": "f1446c9e",
   "metadata": {},
   "source": [
    "a. How many letters are there in 'Supercalifragilisticexpialidocious'?\n",
    "\n",
    "b. Does 'Supercalifragilisticexpialidocious' contain 'ice' as a substring?\n",
    "\n",
    "c. Which of the following words is the longest:\n",
    "Supercalifragilisticexpialidocious, Honorificabilitudinitatibus, or\n",
    "Bababadalgharaghtakamminarronnkonn?\n",
    "\n",
    "d. Which composer comes first in the dictionary: 'Berlioz', 'Borodin', 'Brian',\n",
    "'Bartok', 'Bellini', 'Buxtehude', 'Bernstein'. Which one comes last?\n"
   ]
  },
  {
   "cell_type": "code",
   "execution_count": null,
   "id": "9b17e207",
   "metadata": {},
   "outputs": [],
   "source": [
    "using System;\n",
    "using System.Collections.Generic;\n",
    "\n",
    "\n",
    "class ProblemTwo\n",
    "{\n",
    "    \n",
    "    public void isSubstring(){\n",
    "        string str = \"Supercalifragilisticexpialidocious\";\n",
    "        string sub = \"ice\";\n",
    "        int i=0,j=0;\n",
    "        bool flag = false;\n",
    "        while(i<str.Length){\n",
    "            if(str[i] == sub[j]){\n",
    "                int a = i;\n",
    "                while(a<str.Length && j<sub.Length && str[a] == sub[j]){\n",
    "                    a++;\n",
    "                    j++;\n",
    "                    if(j == sub.Length){\n",
    "                        flag = true;\n",
    "                        break;\n",
    "                    }\n",
    "                }\n",
    "            }\n",
    "            if(flag == true)\n",
    "                break;\n",
    "            i++;\n",
    "            j = 0;\n",
    "        }\n",
    "\n",
    "        if(flag == false)\n",
    "            Console.WriteLine(\"Task 2.2 \\n\"+str+\" Does not contain \"+sub+\" as a Substring\");\n",
    "            \n",
    "        else\n",
    "            Console.WriteLine(\"Task 2.2 \\n\"+str+\" Contain \"+sub+\" as a Substring\");\n",
    "            \n",
    "    }\n",
    "    public void LongestString(){\n",
    "        string a = \"Supercalifragilisticexpialidocious\";\n",
    "        string b = \"Honorificabilitudinitatibus\";\n",
    "        string c = \"Bababadalgharaghtakamminarronnkonn\";\n",
    "        int aa = a.Length;\n",
    "        int bb = b.Length;\n",
    "        int cc = c.Length;\n",
    "        if(aa>bb && aa>cc){\n",
    "            Console.WriteLine(\"Task 2.3 \\n\"+a+\" is the longest string\");\n",
    "        }\n",
    "        else if (bb>cc){\n",
    "            Console.WriteLine(\"Task 2.3 \\n\"+b+\" is the longest string\");\n",
    "        }\n",
    "        else{\n",
    "            Console.WriteLine(\"Task 2.3 \\n\"+c+\" is the longest string\");\n",
    "        }\n",
    "    }\n",
    "    public void DictionaryOrder(){\n",
    "        var d = new Dictionary<string, int>(){{\"Berlioz\",1},{\"Borodin\",2},{\"Brian\",3},{\"Bartok\",4},{\"Bellini\",5},{\"Buxtehude\",5},{\"Bernstein\",5}};\n",
    "        Console.WriteLine(\"Task 4 \\nOrder Of Given words as per Dictionary \");\n",
    "        foreach(KeyValuePair<string,int> k in d){\n",
    "            Console.WriteLine(k.Key);\n",
    "        }\n",
    "    }\n",
    "    static void Main() {\n",
    "        //Task 2.1 To get Length of given String\n",
    "        string s = \"Supercalifragilisticexpialidocious\";\n",
    "        Console.WriteLine(\"Task 2.1 \\nTotal length : \"+s.Length);\n",
    "        //Task 2.2 Checking If given string is sub string or not of another given string\n",
    "        isSubstring();\n",
    "        //Task 2.3 Finding Longest string in given three strings\n",
    "        LongestString();\n",
    "        //Task 2.4 Getting string in Order as per Dictionary\n",
    "        DictionaryOrder();\n",
    "    }\n",
    "}"
   ]
  },
  {
   "cell_type": "markdown",
   "id": "51c5f33a",
   "metadata": {},
   "source": [
    "Question 3 C#\n",
    "Implement function triangleArea(a,b,c) that takes as input the lengths of the 3\n",
    "sides of a triangle and returns the area of the triangle. By Heron's formula, the area\n",
    "of a triangle with side lengths a, b, and c is s(s − a)(s −b)(s −c), where\n",
    "s = (a + b + c)/2."
   ]
  },
  {
   "cell_type": "code",
   "execution_count": null,
   "id": "bbcb4f31",
   "metadata": {},
   "outputs": [],
   "source": [
    "using System;\n",
    "using System.Collections.Generic;\n",
    "\n",
    "class ProgramThree\n",
    "{\n",
    "    public static void triangleArea(float a,float b,float c){\n",
    "        float s = (a+b+c)/2;\n",
    "        float temp = s*(s-a)*(s-b)*(s-c);\n",
    "        Console.Write(Math.Sqrt(temp));\n",
    "    }\n",
    "    static void Main() {\n",
    "        triangleArea(2,2,2);\n",
    "    }\n",
    "}"
   ]
  },
  {
   "cell_type": "markdown",
   "id": "0fba203b",
   "metadata": {},
   "source": [
    "Question 4 C#\n",
    "Write a program in C# Sharp to separate odd and even integers in separate arrays. "
   ]
  },
  {
   "cell_type": "code",
   "execution_count": null,
   "id": "1a44b9fa",
   "metadata": {},
   "outputs": [],
   "source": [
    "using System;\n",
    "\n",
    "class ProgramFour\n",
    "{\n",
    "    static void Main() {\n",
    "        Console.WriteLine(\"Input the number of elements to be stored in the array : \");\n",
    "        string val = Console.ReadLine();\n",
    "        int len = Convert.ToInt32(val);\n",
    "        Console.WriteLine(\"Input \"+ len +\" elements in the array :\");\n",
    "        int[] arr = new int[len];\n",
    "        for(int i = 0;i<len;++i){\n",
    "            \n",
    "            string temp = Console.ReadLine();\n",
    "            int input_value= Convert.ToInt32(temp);\n",
    "            Console.WriteLine(\"element - \"+i+\" : \"+input_value);\n",
    "            arr[i]=input_value;\n",
    "        }\n",
    "        Console.WriteLine(\"The Even elements are: \");\n",
    "        for(int i = 0;i<len;i++){\n",
    "            if(arr[i]%2 == 0)\n",
    "                Console.Write(arr[i]+\" \");\n",
    "        }\n",
    "        Console.WriteLine(\" \");\n",
    "        Console.WriteLine(\"The Odd elements are: \");\n",
    "        for(int i = 0;i<len;++i){\n",
    "            if(arr[i]%2 != 0)\n",
    "                Console.Write(arr[i]+\" \");\n",
    "        }\n",
    "    }\n",
    "}"
   ]
  },
  {
   "cell_type": "code",
   "execution_count": null,
   "id": "ef8e5695",
   "metadata": {},
   "outputs": [],
   "source": []
  },
  {
   "cell_type": "markdown",
   "id": "f5c9a6f1",
   "metadata": {},
   "source": [
    "Question 5 C# \n",
    "a.\n",
    "  Write a function inside(x,y,x1,y1,x2,y2) that returns True or False\n",
    "  dependingonwhetherthepoint(x,y)liesintherectanglewithlowerleft\n",
    "  corner (x1,y1) and upper right corner (x2,y2).\n",
    "\n",
    "b. Use function inside()from part a. to write an expression that tests whether\n",
    "the point (1,1) lies in both of the following rectangles: one with lower left\n",
    "corner (0.3, 0.5) and upper right corner (1.1, 0.7) and the other with lower\n",
    "left corner (0.5, 0.2) and upper right corner (1.1, 2)."
   ]
  },
  {
   "cell_type": "code",
   "execution_count": null,
   "id": "0fcf4547",
   "metadata": {},
   "outputs": [],
   "source": [
    "using System;\n",
    "class ProgramFive\n",
    "{\n",
    "    public static bool inside(double x,double y,double x1,double y1,double x2,double y2)\n",
    "    {\n",
    "        if (x > x1 && x < x2 && y > y1 && y < y2)\n",
    "            return true;\n",
    "    \n",
    "        return false;\n",
    "    }\n",
    "    static void Main() {\n",
    "            Console.WriteLine(inside(1,1,0,0,2,3));\n",
    "            Console.WriteLine(inside(-1,-1,0,0,2,3));\n",
    "            \n",
    "            if(inside(1,1,0.3,0.5,1.1,0.7) && inside(1,1,0.5,0.2,1.1,2))\n",
    "                Console.WriteLine(\"The point lies in both the rectangles\");\n",
    "            else\n",
    "                Console.WriteLine(\"The point doesnot lies in both the rectangles\");\n",
    "                \n",
    "            \n",
    "    }\n",
    "}\n"
   ]
  },
  {
   "cell_type": "markdown",
   "id": "1ea9f55c",
   "metadata": {},
   "source": [
    "Question 6 Python\n",
    "\n",
    " You can turn a word into pig-Latin using the following two rules(simplified):\n",
    "• If the word starts with a consonant, move that letter to the end and append\n",
    "'ay'. For example, 'happy' becomes 'appyhay' and 'pencil' becomes 'encilpay'.\n",
    "• If the word starts with a vowel, simply append 'way' to the end of the word.\n",
    "For example, 'enter' becomes 'enterway' and 'other' becomes 'otherway' . For\n",
    "our purposes, there are 5 vowels: a, e, i, o, u (so we count y as a consonant)."
   ]
  },
  {
   "cell_type": "code",
   "execution_count": 2,
   "id": "78e11992",
   "metadata": {},
   "outputs": [
    {
     "name": "stdout",
     "output_type": "stream",
     "text": [
      "appyhay\n",
      "enterway\n"
     ]
    }
   ],
   "source": [
    "def pig(s):\n",
    "    vowels = ['a','e','i','o','u','A','E','I','U','O']\n",
    "    ans = \"\"\n",
    "    if s[0] not in vowels :\n",
    "        #print(s[0])\n",
    "        ans = s[1:]\n",
    "        ans = ans + s[0]\n",
    "        ans = ans + \"ay\"\n",
    "    else:\n",
    "        ans=s+'way'\n",
    "    print(ans.lower())\n",
    "pig(\"happy\")\n",
    "pig(\"Enter\")\n"
   ]
  },
  {
   "cell_type": "markdown",
   "id": "0201dc1b",
   "metadata": {},
   "source": [
    "Question 7 Python\n",
    "\n",
    "File bloodtype1.txt records blood-types of patients (A, B, AB, O or OO) at a clinic.\n",
    "Write a function bldcount() that reads the file with name name and reports (i.e.,\n",
    "prints) how many patients there are in each bloodtype."
   ]
  },
  {
   "cell_type": "code",
   "execution_count": 4,
   "id": "39410d3b",
   "metadata": {},
   "outputs": [
    {
     "name": "stdout",
     "output_type": "stream",
     "text": [
      "There are 15 patients of blood type O\n",
      "There is one patient of blood type B\n",
      "There are 15 patients of blood type A\n",
      "There are 13 patients of blood type AB\n",
      "There are no patients of blood type OO\n"
     ]
    }
   ],
   "source": [
    "#Question : 7 \n",
    "\n",
    "bloodGroups = dict()\n",
    "bloodGroups['O']=0;bloodGroups['B']=0;bloodGroups['A']=0;bloodGroups['AB']=0\n",
    "bloodGroups['OO']=0\n",
    "with open('bloodtype1.txt','r') as fil :    \n",
    "    for eachLine in fil :                   \n",
    "        listOFGroups = eachLine.split()\n",
    "        for group in listOFGroups :\n",
    "            bloodGroups[group] +=1\n",
    "\n",
    "for group in bloodGroups :\n",
    "    if bloodGroups[group] == 0 :\n",
    "        print(\"There are no patients of blood type {}\".format(group))\n",
    "    elif bloodGroups[group] == 1:\n",
    "        print(\"There is one patient of blood type {}\".format(group))\n",
    "    else :\n",
    "        print(\"There are {} patients of blood type {}\".format(bloodGroups[group],group))\n",
    "        "
   ]
  },
  {
   "cell_type": "code",
   "execution_count": 6,
   "id": "a8d53a1a",
   "metadata": {},
   "outputs": [
    {
     "name": "stdout",
     "output_type": "stream",
     "text": [
      "122.96544\n",
      "1.241401\n"
     ]
    }
   ],
   "source": [
    "#Question - 8 :\n",
    "def curconv(currency,amount):\n",
    "    filepointer = open('currencies.txt','r')\n",
    "    text = filepointer.read()\n",
    "    liss = text.split('\\n')\n",
    "    currDict = dict()\n",
    "    for cur in liss :\n",
    "        demo = cur.split('\\t')\n",
    "        currDict[demo[0]] = float(demo[1])\n",
    "    print(currDict[currency]*amount)\n",
    "curconv(\"EUR\",100)\n",
    "curconv(\"JPY\",100)"
   ]
  },
  {
   "cell_type": "markdown",
   "id": "48525bad",
   "metadata": {},
   "source": [
    "Question 9 Python\n",
    "\n",
    "Each of the following will cause an exception (an error). Identify what type of\n",
    "exception each will cause."
   ]
  },
  {
   "cell_type": "markdown",
   "id": "3484acca",
   "metadata": {},
   "source": [
    "Trying to add incompatible variables, as in\n",
    "\n",
    "adding 6 + ‘a’\n",
    "TypeError: unsupported operand type(s) for +: 'int' and 'str'\n",
    "\n",
    "Referring to the 12th item of a list that has only 10\n",
    "items \n",
    "IndexError: list index out of range\n",
    "\n",
    "Using a value that is out ofrange for a function’s\n",
    "input, such as calling math.sqrt(-1.0)\n",
    "ValueError: math domain error\n",
    "\n",
    "Using an undeclared variable, such as print(x)\n",
    "when x has not been defined\n",
    "NameError: name 'x' is not defined\n",
    "\n",
    "Trying to open a file that does not exist, such as\n",
    "mistyping the file name or looking in the wrong\n",
    "directory:\n",
    "FileNotFoundError"
   ]
  },
  {
   "cell_type": "markdown",
   "id": "7baf8050",
   "metadata": {},
   "source": [
    "#Question 10 Python\n",
    "Write a function called frequencies()\n",
    "that takes a string as its only parameter, and returns a list of integers, showing the\n",
    "number of times each character appears in the text. Your function may ignore any\n",
    "characters that are not in letters."
   ]
  },
  {
   "cell_type": "code",
   "execution_count": 10,
   "id": "d0d38ac2",
   "metadata": {},
   "outputs": [
    {
     "name": "stdout",
     "output_type": "stream",
     "text": [
      "[1, 1, 1, 3, 5, 1, 1, 2, 1, 0, 1, 0, 1, 2, 4, 0, 1, 2, 0, 2, 1, 0, 1, 1, 0, 0]\n",
      "[1, 0, 0, 0, 1, 0, 0, 0, 0, 0, 0, 1, 0, 0, 0, 2, 0, 0, 0, 0, 0, 0, 0, 0, 0, 0]\n"
     ]
    }
   ],
   "source": [
    "#Question 10 :\n",
    "def frequencies(a) :\n",
    "    alphabets = {'a':0,'b':0,'c':0,'d':0,'e':0,'f':0,'g':0,'h':0,'i':0,'j':0,'k':0,'l':0,'m':0,'n':0,'o':0,\n",
    "    'p':0,'q':0,'r':0,'s':0,'t':0,'u':0,'v':0,'w':0,'x':0,'y':0,'z':0}\n",
    "\n",
    "    alpha = \"abcdefghijklmnopqrstuvwxyz\"\n",
    "\n",
    "    for i in range(0,len(a)):\n",
    "        if a[i] in alphabets:\n",
    "            alphabets[a[i]]+=1\n",
    "    alphabetsList = []\n",
    "    for key in alphabets :\n",
    "        alphabetsList.append(alphabets[key])\n",
    "    print(alphabetsList)\n",
    "frequencies(\"The quick red fox got bored and went home\")\n",
    "frequencies(\"apple\")"
   ]
  },
  {
   "cell_type": "code",
   "execution_count": null,
   "id": "e706e83c",
   "metadata": {},
   "outputs": [],
   "source": []
  }
 ],
 "metadata": {
  "kernelspec": {
   "display_name": "Python 3 (ipykernel)",
   "language": "python",
   "name": "python3"
  },
  "language_info": {
   "codemirror_mode": {
    "name": "ipython",
    "version": 3
   },
   "file_extension": ".py",
   "mimetype": "text/x-python",
   "name": "python",
   "nbconvert_exporter": "python",
   "pygments_lexer": "ipython3",
   "version": "3.9.12"
  }
 },
 "nbformat": 4,
 "nbformat_minor": 5
}
